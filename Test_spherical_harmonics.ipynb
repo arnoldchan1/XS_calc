{
 "cells": [
  {
   "cell_type": "code",
   "execution_count": 1,
   "id": "04cffaef",
   "metadata": {},
   "outputs": [],
   "source": [
    "import numpy as np\n",
    "import MDAnalysis as mda\n",
    "import importlib\n",
    "import XS_calc\n",
    "from XS_calc import *\n",
    "\n",
    "import matplotlib.pyplot as plt\n",
    "# %matplotlib notebook\n",
    "%matplotlib inline"
   ]
  },
  {
   "cell_type": "code",
   "execution_count": 35,
   "id": "6bd06aa9",
   "metadata": {},
   "outputs": [],
   "source": [
    "importlib.reload(XS_calc) # This reloads XS_calc\n",
    "from XS_calc import *     # This updates the functions in XS_calc"
   ]
  },
  {
   "cell_type": "code",
   "execution_count": 247,
   "id": "133456ca",
   "metadata": {},
   "outputs": [
    {
     "name": "stdout",
     "output_type": "stream",
     "text": [
      "The protein has 1001 atoms\n"
     ]
    }
   ],
   "source": [
    "importlib.reload(XS_calc) # This reloads XS_calc\n",
    "from XS_calc import *     # This updates the functions in XS_calc\n",
    "U = mda.Universe('data/6lyz.pdb')\n",
    "traj = Trajectory(U, selection='protein', match_FoXS=False)\n",
    "frame = traj.Frames[0]\n",
    "# print(frame.mol.vdW)\n",
    "env = Environment(c2=2)\n",
    "mea = Measurement(q = np.linspace(0.00, 0.5, num=101))\n",
    "frame.SASA_calc(env, force_recalc=True)\n",
    "\n",
    "FF_q = FF_calc(frame, env, mea)\n",
    "XS = frame_XS_calc(frame, env, mea)\n",
    "# an i by j matrix of distances between all atoms\n",
    "# d_ij = np.sqrt(np.sum((frame.xyz[None,:,:]-frame.xyz[:,None,:])**2, axis=2))\n",
    "\n",
    "# XS = np.zeros(np.shape(mea.q))\n",
    "# for i in np.arange(frame.mol.n_atoms):\n",
    "#     for j in np.arange(i+1, frame.mol.n_atoms):\n",
    "#         qd = mea.q * d_ij[i,j]\n",
    "#         XS += 2 * FF_q[i] * FF_q[j] * np.sinc(qd / np.pi)\n",
    "#     XS += FF_q[i] ** 2"
   ]
  },
  {
   "cell_type": "code",
   "execution_count": 241,
   "id": "9307da5a",
   "metadata": {},
   "outputs": [
    {
     "data": {
      "text/plain": [
       "array([27711.95257392, 27697.26215446, 27653.25376118, 27580.11556014,\n",
       "       27478.15973407, 27347.82035437, 27189.65042743, 27004.31814068,\n",
       "       26792.60234058, 26555.38728107, 26293.65668736, 26008.48718529,\n",
       "       25701.04115211, 25372.55904862, 25024.35129722, 24657.78977345,\n",
       "       24274.29898151, 23875.34698637, 23462.43617655, 23037.09393208,\n",
       "       22600.86327252, 22155.29355899, 21701.93132277, 21242.31129114,\n",
       "       20777.94767831, 20310.32580603, 19840.89411467, 19371.05662113,\n",
       "       18902.16587509, 18435.51645992, 17972.33907888, 17513.79526125,\n",
       "       17060.97271719, 16614.8813633 , 16176.450035  , 15746.52389481,\n",
       "       15325.86253981, 14915.13880449, 14514.9382498 , 14125.75932252,\n",
       "       13748.01416399, 13382.03004138, 13028.05137009, 12686.24229097,\n",
       "       12356.6897622 , 12039.40712191, 11734.33807446, 11441.36105097,\n",
       "       11160.2938924 , 10890.89880222, 10632.88751478, 10385.92662516,\n",
       "       10149.64302642,  9923.6294012 ,  9707.44971564,  9500.64466538,\n",
       "        9302.73702587,  9113.2368616 ,  8931.64655204,  8757.46559536,\n",
       "        8590.1951548 ,  8429.34231642,  8274.42403095,  8124.9707169 ,\n",
       "        7980.52950644,  7840.66711982,  7704.97235859,  7573.05821239,\n",
       "        7444.56357795,  7319.15459355,  7196.52559564,  7076.39970843,\n",
       "        6958.52908047,  6842.69478545,  6728.70640741,  6616.40133301,\n",
       "        6505.64377563,  6396.32355793,  6288.35468101,  6181.67370915,\n",
       "        6076.23800013,  5972.02381098,  5869.02430948,  5767.24752087,\n",
       "        5666.71423891,  5567.45592893,  5469.5126497 ,  5372.93101894,\n",
       "        5277.76224578,  5184.06025124,  5091.87989568,  5001.27533012,\n",
       "        4912.29848535,  4824.99771089,  4739.41657277,  4655.59281714,\n",
       "        4573.5575036 ,  4493.33431034,  4414.93901027,  4338.37911547,\n",
       "        4263.65368507])"
      ]
     },
     "execution_count": 241,
     "metadata": {},
     "output_type": "execute_result"
    }
   ],
   "source": [
    "XS"
   ]
  },
  {
   "cell_type": "code",
   "execution_count": 242,
   "id": "fbb327f0",
   "metadata": {},
   "outputs": [],
   "source": [
    "\n",
    "importlib.reload(XS_calc) # This reloads XS_calc\n",
    "from XS_calc import *     # This updates the functions in XS_calc\n",
    "\n",
    "def frame_XS_calc_exp(frame, env, mea, ignoreSASA=False):\n",
    "    q_sphere = raster_unit_sphere(200)\n",
    "    \n",
    "#     print(tmp)\n",
    "#     print(sph)\n",
    "    if not ignoreSASA:\n",
    "        # Get the SASA calculated if not done\n",
    "        frame.SASA_calc(env)\n",
    "\n",
    "    # Calculate adjusted form factors as a table.\n",
    "    FF_q = FF_calc(frame, env, mea)\n",
    "    \n",
    "    # Calculate scattering signal XS - currently this is quite slow. There has to be a way to make it faster\n",
    "    XS = np.zeros(np.shape(mea.q))\n",
    "\n",
    "    for idx, q in enumerate(mea.q):\n",
    "\n",
    "\n",
    "            A = np.sum(FF_q[:,idx] * np.exp(-(1j) * q * np.dot(q_sphere, frame.xyz.T)), axis=1)\n",
    "            XS[idx] = np.mean(np.abs(A)**2)\n",
    "#         for q_pt in q_sphere:\n",
    "#             A = np.sum(FF_q[:,idx] * np.exp(-(1j) * q * np.dot(q_pt, frame.xyz.T)))\n",
    "#             print((FF_q[:,idx] * np.exp(-(1j) * q * np.dot(q_pt, frame.xyz.T))).shape)\n",
    "#             XS[idx] += np.abs(A)**2 / len(q_sphere)\n",
    "\n",
    "#             A = 0\n",
    "#             for i in np.arange(frame.mol.n_atoms):\n",
    "#                 A += FF_q[i][idx] * np.exp(-(1j) * q * np.dot(q_pt, frame.xyz[i]))\n",
    "#             XS[idx] += np.abs(A)**2 / len(q_sphere)\n",
    "\n",
    "    return XS"
   ]
  },
  {
   "cell_type": "code",
   "execution_count": 243,
   "id": "9374beaa",
   "metadata": {},
   "outputs": [
    {
     "data": {
      "text/plain": [
       "(104, 101)"
      ]
     },
     "execution_count": 243,
     "metadata": {},
     "output_type": "execute_result"
    }
   ],
   "source": [
    "FF_q.shape"
   ]
  },
  {
   "cell_type": "code",
   "execution_count": 248,
   "id": "500cbd65",
   "metadata": {},
   "outputs": [
    {
     "name": "stdout",
     "output_type": "stream",
     "text": [
      "5.99 s ± 57.5 ms per loop (mean ± std. dev. of 7 runs, 1 loop each)\n"
     ]
    }
   ],
   "source": [
    "%timeit XS = frame_XS_calc(frame, env, mea)"
   ]
  },
  {
   "cell_type": "code",
   "execution_count": 249,
   "id": "3c0876c2",
   "metadata": {
    "scrolled": true
   },
   "outputs": [
    {
     "name": "stdout",
     "output_type": "stream",
     "text": [
      "541 ms ± 20.2 ms per loop (mean ± std. dev. of 7 runs, 1 loop each)\n",
      "[27711.95257392 27697.26089129 27653.24870728 27580.1041842\n",
      " 27478.13949864 27347.78871343 27189.60482408 27004.25600493\n",
      " 26792.52108721 26555.28430768 26293.52937253 26008.33288695\n",
      " 25700.85720603 25372.34276719 25024.09996842 24657.50066001\n",
      " 24273.96932038 23874.97398847 23462.01702672 23036.62578936\n",
      " 22600.34327077 22154.71880773 21701.29890839 21241.61827842\n",
      " 20777.19111223 20309.50271398 19840.00150888 19370.09150153\n",
      " 18901.12523243 18434.39727926 17971.13834332 17512.50995608\n",
      " 17059.59983427 16613.41790577 16174.89302224 15744.87036776\n",
      " 15324.10956643 14913.2834856  14512.97772504 14123.69077661\n",
      " 13745.83483315 13379.73721995 13025.64241729 12683.71463783\n",
      " 12354.04091858 12036.63468364 11731.43973052 11438.33459078\n",
      " 11157.13721306 10887.60991582 10629.46455562 10382.36785694\n",
      " 10145.94684939  9919.79435916  9703.4745028   9496.52813308\n",
      "  9298.47818914  9108.83490548  8927.10083761  8752.77566562\n",
      "  8585.36074018  8424.36333999  8269.3006133   8119.70318065\n",
      "  7975.11838038  7835.11314263  7699.27648215  7567.22160459\n",
      "  7438.58762515  7313.0409024   7190.27599456  7070.01624848\n",
      "  6952.01403569  6836.05065271  6721.93590571  6609.50740218\n",
      "  6498.6295745   6389.19246194  6281.11027919  6174.31980063\n",
      "  6068.77858994  5964.4631054   5861.36671075  5759.49762139\n",
      "  5658.87681481  5559.53593314  5461.51520451  5364.86140799\n",
      "  5269.62590557  5175.86276209  5083.62697234  4992.97281181\n",
      "  4903.95232543  4816.61396607  4731.00139203  4647.15243021\n",
      "  4565.09820916  4484.86246392  4406.46101186  4329.90139697\n",
      "  4255.18269745]\n"
     ]
    }
   ],
   "source": [
    "%timeit XS2 = frame_XS_calc_exp(frame, env, mea) \n",
    "print(XS2)"
   ]
  },
  {
   "cell_type": "code",
   "execution_count": 239,
   "id": "bd5533c7",
   "metadata": {},
   "outputs": [
    {
     "data": {
      "image/png": "[encoded data removed]",
      "text/plain": [
       "<Figure size 432x288 with 1 Axes>"
      ]
     },
     "metadata": {
      "needs_background": "light"
     },
     "output_type": "display_data"
    }
   ],
   "source": [
    "import matplotlib.pyplot as plt\n",
    "plt.figure()\n",
    "plt.plot(mea.q, XS)\n",
    "plt.plot(mea.q, XS2)\n",
    "plt.yscale('log')"
   ]
  },
  {
   "cell_type": "code",
   "execution_count": null,
   "id": "739a1017",
   "metadata": {},
   "outputs": [],
   "source": []
  }
 ],
 "metadata": {
  "kernelspec": {
   "display_name": "Python 3 (ipykernel)",
   "language": "python",
   "name": "python3"
  },
  "language_info": {
   "codemirror_mode": {
    "name": "ipython",
    "version": 3
   },
   "file_extension": ".py",
   "mimetype": "text/x-python",
   "name": "python",
   "nbconvert_exporter": "python",
   "pygments_lexer": "ipython3",
   "version": "3.9.7"
  }
 },
 "nbformat": 4,
 "nbformat_minor": 5
}
